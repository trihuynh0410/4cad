{
 "cells": [
  {
   "cell_type": "code",
   "execution_count": 1,
   "metadata": {},
   "outputs": [],
   "source": [
    "import pandas as pd\n",
    "from sklearn.model_selection import train_test_split\n",
    "from sklearn.preprocessing import MinMaxScaler\n",
    "from sklearn.metrics import classification_report\n",
    "import itertools\n",
    "from sklearn.preprocessing import LabelEncoder\n",
    "from sklearn.svm import SVC\n",
    "from sklearn.linear_model import LogisticRegression\n",
    "from sklearn.neighbors import KNeighborsClassifier\n",
    "from sklearn.discriminant_analysis import LinearDiscriminantAnalysis\n",
    "from xgboost import XGBClassifier, DMatrix\n",
    "import warnings\n",
    "warnings.filterwarnings(\"ignore\")\n",
    "import xgboost as xgb"
   ]
  },
  {
   "cell_type": "code",
   "execution_count": 2,
   "metadata": {},
   "outputs": [],
   "source": [
    "from sklearn.decomposition import KernelPCA\n",
    "from sklearn.metrics.pairwise import pairwise_kernels\n",
    "from scipy.stats import skew, kurtosis, shapiro\n",
    "import numpy as np\n",
    "\n",
    "def DKPCA(features_scaled, n_components=None, kernel=None):\n",
    "    \n",
    "    # Perform KPCA\n",
    "    kpca = KernelPCA(n_components=n_components, kernel=kernel, fit_inverse_transform=True)\n",
    "    kpca.fit(features_scaled)\n",
    "    \n",
    "    # Transform the features\n",
    "    projections = kpca.transform(features_scaled)\n",
    "    \n",
    "    # Determine thresholds\n",
    "    thresholds = {}\n",
    "    for j in range(projections.shape[1]):\n",
    "        s = skew(projections[:, j])\n",
    "        k = kurtosis(projections[:, j], fisher=False)\n",
    "        stat, p_value = shapiro(projections[:, j])\n",
    "        if p_value > 0.05:\n",
    "            mean = np.mean(projections[:, j])\n",
    "            std = np.std(projections[:, j])\n",
    "            thresholds[j] = mean + 2 * std  # 95% confidence interval\n",
    "        else:\n",
    "            thresholds[j] = np.percentile(projections[:, j], 95)  # 95th percentile\n",
    "    \n",
    "    # Select subset indices\n",
    "    subset_indices = []\n",
    "    for j in range(projections.shape[1]):\n",
    "        candidate_indices = np.where(projections[:, j] < thresholds[j])[0]\n",
    "        if candidate_indices.size > 0:\n",
    "            subset_index = candidate_indices[np.argmax(projections[candidate_indices, j])]\n",
    "            subset_indices.append(subset_index)\n",
    "    \n",
    "    subset_indices = list(set(subset_indices))\n",
    "    \n",
    "    # Compute the new kernel matrix using the same kernel function\n",
    "    K_new = pairwise_kernels(features_scaled[subset_indices, :], features_scaled, metric=kernel)\n",
    "    \n",
    "    # Compute the DKPCA features\n",
    "    eigenvectors_subset = kpca.eigenvectors_[subset_indices, :]\n",
    "    features_dkpca = np.dot(K_new.T, eigenvectors_subset)\n",
    "    \n",
    "    return features_dkpca"
   ]
  },
  {
   "cell_type": "code",
   "execution_count": 4,
   "metadata": {},
   "outputs": [],
   "source": [
    "import itertools\n",
    "import numpy as np\n",
    "import pandas as pd\n",
    "from sklearn.model_selection import train_test_split\n",
    "from sklearn.preprocessing import MinMaxScaler, LabelEncoder\n",
    "from sklearn.metrics import classification_report\n",
    "from sklearn.decomposition import PCA, KernelPCA\n",
    "from concurrent.futures import ThreadPoolExecutor\n",
    "import concurrent\n",
    "\n",
    "def parallel(features_scaled, n_component, feature_reduction_method, kernel=None, labels= None):\n",
    "    if feature_reduction_method == 'pca':\n",
    "        pca = PCA(n_components=n_component)\n",
    "        features_reduced = pca.fit_transform(features_scaled)\n",
    "    elif feature_reduction_method == 'kpca':\n",
    "        kpca = KernelPCA(n_components=n_component, kernel=kernel)\n",
    "        features_reduced = kpca.fit_transform(features_scaled)\n",
    "    elif feature_reduction_method == 'dkpca':\n",
    "        features_reduced = DKPCA(features_scaled, n_components=n_component, kernel=kernel)\n",
    "    else:\n",
    "        features_reduced = features_scaled\n",
    "\n",
    "    X_train, X_test, y_train, y_test = train_test_split(features_reduced, labels, test_size=0.3, random_state=42)\n",
    "    le = LabelEncoder()\n",
    "    y_train = le.fit_transform(y_train)\n",
    "    y_test = le.fit_transform(y_test)\n",
    "\n",
    "    dtrain = DMatrix(X_train, label=y_train)\n",
    "    dtest = DMatrix(X_test, label=y_test)\n",
    "\n",
    "    classifiers = [xgb.XGBClassifier(device = 'cuda'), KNeighborsClassifier(n_neighbors= 14), LinearDiscriminantAnalysis(solver = 'lsqr')]\n",
    "    clf_names = ['XGBClassifier', 'KNeighborsClassifier', 'LinearDiscriminantAnalysis']\n",
    "    local_results = []\n",
    "    for clf, clf_name in zip(classifiers, clf_names):\n",
    "\n",
    "        if clf_name == 'XGBClassifier':\n",
    "            param = clf.get_xgb_params()\n",
    "            param['objective'] = 'multi:softmax'\n",
    "            param['num_class'] = len(set(y_train))\n",
    "            dtrain = xgb.DMatrix(X_train, label=y_train)\n",
    "            dtest = xgb.DMatrix(X_test, label=y_test)\n",
    "            bst = xgb.train(param, dtrain)\n",
    "            y_pred = bst.predict(dtest)\n",
    "        else:\n",
    "            clf.fit(X_train, y_train)\n",
    "            y_pred = clf.predict(X_test)\n",
    "        report = classification_report(y_test, y_pred, output_dict=True)\n",
    "\n",
    "        local_results.append((report['accuracy'], clf_name, feature_reduction_method, n_component, kernel))\n",
    "\n",
    "    return local_results\n",
    "\n",
    "def evaluate_models(df, feature_reduction=None, components_range=None, kernels=None):\n",
    "    results = []\n",
    "    features = df.iloc[:, 2:]\n",
    "    labels = df.iloc[:, 1]\n",
    "    scaler = MinMaxScaler(feature_range=(0, 1))\n",
    "    features_scaled = scaler.fit_transform(features)\n",
    "\n",
    "    if feature_reduction:\n",
    "        loop_range = components_range\n",
    "    else:\n",
    "        loop_range = [None]\n",
    "\n",
    "    for kernel in kernels:\n",
    "        with ThreadPoolExecutor(max_workers=len(loop_range)) as executor:\n",
    "            future_tasks = {executor.submit(parallel, features_scaled, n_component, feature_reduction, kernel, labels): n_component for n_component in loop_range}\n",
    "\n",
    "            for future in concurrent.futures.as_completed(future_tasks):\n",
    "                results.extend(future.result())\n",
    "                \n",
    "    results.sort(key=lambda x: x[0], reverse=True)\n",
    "    top_5_results = results[:5]\n",
    "    return top_5_results\n"
   ]
  },
  {
   "cell_type": "code",
   "execution_count": 8,
   "metadata": {},
   "outputs": [],
   "source": [
    "import pandas as pd\n",
    "\n",
    "types = [\"ori\", \"segment\"]\n",
    "regions = [\"hippo\", \"ven\"]\n",
    "\n",
    "file_path = f\"/mnt/data_lab513/tramy/4CAD/data/entropy/Entropy_{regions[0]}_{types[0]}.csv\"\n",
    "merged_df = pd.read_csv(file_path)\n",
    "\n",
    "for r in regions:\n",
    "    for t in types[1:]:\n",
    "        file_path = f\"/mnt/data_lab513/tramy/4CAD/data/entropy/Entropy_{r}_{t}.csv\"\n",
    "        \n",
    "        df = pd.read_csv(file_path)\n",
    "\n",
    "        merged_df = pd.merge(merged_df, df, on=[\"subject\", \"label\"])\n",
    "\n"
   ]
  },
  {
   "cell_type": "code",
   "execution_count": 34,
   "metadata": {},
   "outputs": [],
   "source": [
    "import numpy as np\n",
    "import scipy.stats as stats\n",
    "from sklearn.preprocessing import MinMaxScaler\n",
    "\n",
    "features = merged_df.iloc[:, 2:]\n",
    "cols_to_keep = features.columns[(features != 0).any(axis=0)]\n",
    "features = features[cols_to_keep]\n",
    "scaler = MinMaxScaler(feature_range=(0, 1))\n",
    "features_scaled = scaler.fit_transform(features)\n",
    "labels = merged_df.iloc[:, 1]\n",
    "not_significant_features = []\n",
    "\n",
    "for feature in merged_df.columns:\n",
    "    if feature not in ['subject', 'label']:\n",
    "        class0 = merged_df[merged_df['label'] == 0][feature].dropna()\n",
    "        class1 = merged_df[merged_df['label'] == 1][feature].dropna()\n",
    "        class2 = merged_df[merged_df['label'] == 2][feature].dropna()\n",
    "        class3 = merged_df[merged_df['label'] == 3][feature].dropna()\n",
    "\n",
    "        if len(class0) < 2 or len(class1) < 2 or len(class2) < 2 or len(class3) < 2:\n",
    "            continue\n",
    "        F, p = stats.f_oneway(class0, class1, class2, class3)    \n",
    "        if p > 0.05:\n",
    "            not_significant_features.append(feature)\n",
    "\n",
    "for feature in not_significant_features:\n",
    "    print(f\"Feature '{feature}' is not significant.\")\n",
    "\n",
    "merged_df = merged_df.drop(columns=not_significant_features)\n"
   ]
  },
  {
   "cell_type": "code",
   "execution_count": 42,
   "metadata": {},
   "outputs": [],
   "source": [
    "merged_df = merged_df[merged_df['label'].isin([0, 2])]"
   ]
  },
  {
   "cell_type": "code",
   "execution_count": 35,
   "metadata": {},
   "outputs": [
    {
     "name": "stdout",
     "output_type": "stream",
     "text": [
      "(0.484375, 'LinearDiscriminantAnalysis', None, None, 'rbf')\n",
      "(0.4479166666666667, 'KNeighborsClassifier', None, None, 'rbf')\n",
      "(0.4270833333333333, 'XGBClassifier', None, None, 'rbf')\n"
     ]
    }
   ],
   "source": [
    "top_5_None = evaluate_models(merged_df, feature_reduction=None, kernels=['rbf'])\n",
    "for result in top_5_None:\n",
    "     print(result)"
   ]
  },
  {
   "cell_type": "code",
   "execution_count": 36,
   "metadata": {},
   "outputs": [],
   "source": [
    "kernels = ['linear', 'poly', 'rbf', 'sigmoid', 'cosine'] "
   ]
  },
  {
   "cell_type": "code",
   "execution_count": 38,
   "metadata": {},
   "outputs": [
    {
     "name": "stdout",
     "output_type": "stream",
     "text": [
      "(0.5364583333333334, 'LinearDiscriminantAnalysis', 'pca', 10, 'linear')\n",
      "(0.5364583333333334, 'LinearDiscriminantAnalysis', 'pca', 10, 'poly')\n",
      "(0.5364583333333334, 'LinearDiscriminantAnalysis', 'pca', 10, 'rbf')\n",
      "(0.5364583333333334, 'LinearDiscriminantAnalysis', 'pca', 10, 'sigmoid')\n",
      "(0.5364583333333334, 'LinearDiscriminantAnalysis', 'pca', 10, 'cosine')\n"
     ]
    }
   ],
   "source": [
    "top_5_PCA = evaluate_models(merged_df,feature_reduction='pca', components_range=range(2, 36), kernels = kernels)\n",
    "for result in top_5_PCA:\n",
    "     print(result)"
   ]
  },
  {
   "cell_type": "code",
   "execution_count": 39,
   "metadata": {},
   "outputs": [
    {
     "name": "stdout",
     "output_type": "stream",
     "text": [
      "(0.5364583333333334, 'LinearDiscriminantAnalysis', 'kpca', 10, 'linear')\n",
      "(0.5364583333333334, 'LinearDiscriminantAnalysis', 'kpca', 8, 'sigmoid')\n",
      "(0.53125, 'LinearDiscriminantAnalysis', 'kpca', 9, 'linear')\n",
      "(0.53125, 'LinearDiscriminantAnalysis', 'kpca', 8, 'poly')\n",
      "(0.53125, 'LinearDiscriminantAnalysis', 'kpca', 10, 'sigmoid')\n"
     ]
    }
   ],
   "source": [
    "top_5_KPCA = evaluate_models(merged_df, feature_reduction='kpca', components_range=range(2, 36), kernels = kernels)\n",
    "for result in top_5_KPCA:\n",
    "     print(result)"
   ]
  },
  {
   "cell_type": "code",
   "execution_count": 40,
   "metadata": {},
   "outputs": [
    {
     "name": "stdout",
     "output_type": "stream",
     "text": [
      "(0.53125, 'LinearDiscriminantAnalysis', 'dkpca', 6, 'rbf')\n",
      "(0.5260416666666666, 'LinearDiscriminantAnalysis', 'dkpca', 9, 'linear')\n",
      "(0.5260416666666666, 'LinearDiscriminantAnalysis', 'dkpca', 9, 'poly')\n",
      "(0.5260416666666666, 'LinearDiscriminantAnalysis', 'dkpca', 10, 'rbf')\n",
      "(0.5208333333333334, 'LinearDiscriminantAnalysis', 'dkpca', 6, 'cosine')\n"
     ]
    }
   ],
   "source": [
    "top_5_DKPCA = evaluate_models(merged_df, feature_reduction='dkpca', components_range=range(2, 36), kernels = kernels)\n",
    "for result in top_5_DKPCA:\n",
    "     print(result)"
   ]
  },
  {
   "cell_type": "code",
   "execution_count": 43,
   "metadata": {},
   "outputs": [
    {
     "name": "stdout",
     "output_type": "stream",
     "text": [
      "              precision    recall  f1-score   support\n",
      "\n",
      "           0       0.66      0.68      0.67        63\n",
      "           1       0.64      0.62      0.63        58\n",
      "\n",
      "    accuracy                           0.65       121\n",
      "   macro avg       0.65      0.65      0.65       121\n",
      "weighted avg       0.65      0.65      0.65       121\n",
      "\n"
     ]
    }
   ],
   "source": [
    "df = merged_df\n",
    "features = df.iloc[:, 2:]\n",
    "labels = df.iloc[:, 1]\n",
    "scaler = MinMaxScaler(feature_range=(0, 1))\n",
    "features_scaled = scaler.fit_transform(features)\n",
    "features_reduced = DKPCA(features_scaled, n_components=6, kernel='rbf')\n",
    "X_train, X_test, y_train, y_test = train_test_split(features_reduced, labels, test_size=0.3, random_state=42)\n",
    "le = LabelEncoder()\n",
    "y_train = le.fit_transform(y_train)\n",
    "y_test = le.fit_transform(y_test)\n",
    "clf = LinearDiscriminantAnalysis(solver = 'lsqr')\n",
    "clf.fit(X_train, y_train)\n",
    "y_pred = clf.predict(X_test)\n",
    "report = classification_report(y_test, y_pred)\n",
    "print(report)"
   ]
  }
 ],
 "metadata": {
  "kernelspec": {
   "display_name": "4cad",
   "language": "python",
   "name": "python3"
  },
  "language_info": {
   "codemirror_mode": {
    "name": "ipython",
    "version": 3
   },
   "file_extension": ".py",
   "mimetype": "text/x-python",
   "name": "python",
   "nbconvert_exporter": "python",
   "pygments_lexer": "ipython3",
   "version": "3.10.11"
  }
 },
 "nbformat": 4,
 "nbformat_minor": 2
}
